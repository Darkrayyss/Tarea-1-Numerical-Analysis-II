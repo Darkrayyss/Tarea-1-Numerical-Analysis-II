{
 "cells": [
  {
   "cell_type": "code",
   "execution_count": 75,
   "id": "3f57d329",
   "metadata": {},
   "outputs": [],
   "source": [
    "import numpy as np"
   ]
  },
  {
   "attachments": {},
   "cell_type": "markdown",
   "id": "0b600683",
   "metadata": {},
   "source": [
    "# Tarea 1 **[25 pts]**\n",
    "\n",
    "Sea $m\\geq n$. Una matriz $T\\in\\mathbb{R}^{m\\times n}$ se llama **triangular north-east** si\n",
    "$T_{j,k}=0$ para $j>k$.\n",
    "\n",
    "El objetivo de esta tarea es fabricar una función `qt` que a partir de una matriz $A\\in\\mathbb{R}^{m\\times n}$\n",
    "calcule una descomposición\n",
    "\n",
    "\\begin{align*}\n",
    "QA = T\n",
    "\\end{align*}\n",
    "\n",
    "con $Q\\in\\mathbb{R}^{m\\times m}$ ortonormal y $T\\in\\mathbb{R}^{m\\times n}$ triangular north-east. La función\n",
    "`qt` debe usar reflexiones de Householder, es decir\n",
    "\n",
    "\\begin{align*}\n",
    "Q = H_{w_n} \\cdot \\dots \\cdot H_{w_1}.\n",
    "\\end{align*}\n",
    "\n",
    "En vez de calcular $Q$ explicitamente, la función `qt` calcula la matriz\n",
    "\n",
    "\\begin{align*}\n",
    "W =\n",
    "\\begin{pmatrix}\n",
    "| & & |\\\\\n",
    "w_1 & \\dots & w_n\\\\\n",
    "| & & |\n",
    "\\end{pmatrix}.\n",
    "\\end{align*}\n",
    "\n",
    "La función debe tener la signatura\n",
    "\n",
    "`(W,T) = qt(A)`.\n",
    "\n",
    "Las matrices $A,W,T$ son todas del tipo `np.array`."
   ]
  },
  {
   "attachments": {},
   "cell_type": "markdown",
   "id": "1be61354",
   "metadata": {},
   "source": [
    "> Para que la notación sea congruente con lo estudiado en el curso y el apunte, se debe entender $Q$ como\n",
    "> $$Q = Q_n\\cdot\\dots\\cdot Q_1$$\n",
    "> donde $Q_k$ se define como\n",
    ">\\begin{align*}\n",
    ">Q_k =\n",
    ">\\begin{pmatrix}\n",
    ">I_{k-1} & 0\\\\\n",
    ">0 & H\n",
    ">\\end{pmatrix}.\n",
    ">\\end{align*}\n",
    "> con $H$ la matriz de Householder asociada al paso k de dimensiones adecuadas.\n",
    ">\n",
    "> Además se entiende a $W$ como la matriz cuadrada triangular inferior izquierda que contiene los vectores $w_k$ en el orden presentado arriba. Notese que los vectores son de dimensión $n-k+1$, luego la matriz $W$ carece de ciertos elementos, estos se rellenan por arriba por de cada $w_k\" con 0 quedando la definición anterior.\n",
    ">\n",
    "> Sobre la iteración $k$-ésima, si el vector en cuestión es múltiplo de $e_1$, entonces la matriz de Householder debe ser $I$, por lo tanto en tal caso asumiremos $w_k=0$ el vector nulo.\n"
   ]
  },
  {
   "cell_type": "code",
   "execution_count": 76,
   "id": "221dd0e2",
   "metadata": {},
   "outputs": [
    {
     "name": "stdout",
     "output_type": "stream",
     "text": [
      "Las matrices resultantes son:\n",
      "W:\n",
      "[[-0.57735027  0.          0.        ]\n",
      " [ 0.57735027 -0.31622777  0.        ]\n",
      " [-0.57735027  0.9486833   0.        ]]\n",
      "T:\n",
      "[[ 3.         -5.         -0.33333333]\n",
      " [-0.          5.          1.26666667]\n",
      " [ 0.         -0.         -1.13333333]]\n",
      "A:\n",
      "[[ 1 -1 -1]\n",
      " [ 2  0  1]\n",
      " [-2  7  1]]\n"
     ]
    }
   ],
   "source": [
    "def printif(text ,var=1):\n",
    "    '''print by a condition'''\n",
    "    if var == 1:\n",
    "        print(text)\n",
    "\n",
    "def qt(A, verbose=0):\n",
    "    '''Return a representation of the factorization QA=T with Q mxm orthonormal and T matrix mxn triangular north-east\n",
    "     where W=(w_1,...,w_n)'''\n",
    "    n, m = np.shape(A) # dimension\n",
    "    # m<n error\n",
    "    if m < n:\n",
    "        raise ValueError(\"m must be greater or equal than n\")\n",
    "    A = A.astype(np.float64)\n",
    "    W = np.zeros([n,n], dtype=np.float64)\n",
    "    # Over iteration\n",
    "    for k in range(n-1):\n",
    "        printif(f\"-------------  k = {k}  -------------\", verbose)\n",
    "        x_k = np.copy(A[k:,k])\n",
    "        # if it is trivial case: x_1 = b*e_1, we asume w_k = 0\n",
    "        if np.round(np.linalg.norm(x_k[1:], ord=2), 10) != 0:\n",
    "            # lema 27\n",
    "            lmbda = -np.sign(x_k[0])\n",
    "            sgm = lmbda*np.linalg.norm(x_k, ord=2)\n",
    "            e_1 = np.eye(len(x_k), 1, dtype=int).flatten()\n",
    "            W[k:,k] = x_k+sgm*e_1\n",
    "            W[k:,k] /= np.linalg.norm(W[k:,k], ord=2)            \n",
    "        printif(f\"A:\\n{A}\", verbose)\n",
    "        # Calculate the new value of A by HB\n",
    "        printif(f\"B:\\n{A[k:,k:]}\", verbose)\n",
    "        wHB= np.matmul(np.transpose(np.reshape(W[k:,k],(-1,1))), A[k:,k:])\n",
    "        A[k:,k:] = A[k:,k:] - 2*np.matmul(np.reshape(W[k:,k],(-1,1)), wHB) #w have norm 1 or 0\n",
    "        printif(f\"W:\\n{W}\", verbose)\n",
    "    return (np.round(W, 10), np.round(A, 10))\n",
    "\n",
    "\n",
    "# A = np.array([[1,2,3,4],[5,6,7,8],[9,10,11,12],])\n",
    "    \n",
    "A = np.array([[1,-1,-1],[2,0,1],[-2,7,1]]) \n",
    "\n",
    "W, T = qt(A)\n",
    "\n",
    "print(f\"Las matrices resultantes son:\\nW:\\n{W}\\nT:\\n{T}\\nA:\\n{A}\")"
   ]
  },
  {
   "attachments": {},
   "cell_type": "markdown",
   "id": "3e4e5223",
   "metadata": {},
   "source": [
    "# Tarea 2 **[25 pts]**\n",
    "\n",
    "En un segundo paso, escriba una función\n",
    "\n",
    "`(y) = evalHouseholder(W,x)`\n",
    "\n",
    "que calcule $y = Qx$, donde $W$ representa a la matriz ortogonal $Q$ según las indicaciones de arriba.\n",
    "La única restricción es que la función `evalHouseholder` debe pedir solamente la memoria para el vector $y$."
   ]
  },
  {
   "cell_type": "code",
   "execution_count": 77,
   "id": "8e3978ba",
   "metadata": {},
   "outputs": [],
   "source": [
    "def evalHouseholder(W,x):\n",
    "    \n",
    "    m = W.shape[0];\n",
    "    y = np.zeros(m);\n",
    "    \n",
    "    #\n",
    "    # implemente aqui la función SIN pedir mas memoria para matrices o vectores\n",
    "    #\n",
    "    \n",
    "    return y"
   ]
  },
  {
   "attachments": {},
   "cell_type": "markdown",
   "id": "8bfc0db6",
   "metadata": {},
   "source": [
    "# Tarea 3 **[25 pts]**\n",
    "\n",
    "\n",
    "En un tercer paso aplicamos las funciones de arriba al problema de calcular $x\\in\\mathbb{R}^n$ tal que\n",
    "\n",
    "\\begin{align*}\n",
    "\\| b-Ax \\|_2 = \\min_{y\\in\\mathbb{R}^n}\\| b-Ay \\|_2\n",
    "\\end{align*}\n",
    "\n",
    "**sin** usar las ecuaciones normales. Aplicaremos la técnica del Lemma 30 de los apuntes."
   ]
  },
  {
   "cell_type": "code",
   "execution_count": 78,
   "id": "327a016f",
   "metadata": {},
   "outputs": [],
   "source": [
    "def minquad(A,b):\n",
    "    \n",
    "    (W,T) = qt(A);\n",
    "    \n",
    "    #\n",
    "    #  implemente aqui la función\n",
    "    #\n",
    "    \n",
    "    return x;"
   ]
  },
  {
   "attachments": {},
   "cell_type": "markdown",
   "id": "37666196",
   "metadata": {},
   "source": [
    "# Tarea 4 **[25 pts]**\n",
    "\n",
    "Invente unos ejemplos para testear sus funciones!"
   ]
  },
  {
   "cell_type": "code",
   "execution_count": null,
   "id": "66f64a62",
   "metadata": {},
   "outputs": [],
   "source": []
  }
 ],
 "metadata": {
  "kernelspec": {
   "display_name": "Python 3 (ipykernel)",
   "language": "python",
   "name": "python3"
  },
  "language_info": {
   "codemirror_mode": {
    "name": "ipython",
    "version": 3
   },
   "file_extension": ".py",
   "mimetype": "text/x-python",
   "name": "python",
   "nbconvert_exporter": "python",
   "pygments_lexer": "ipython3",
   "version": "3.10.9"
  }
 },
 "nbformat": 4,
 "nbformat_minor": 5
}
