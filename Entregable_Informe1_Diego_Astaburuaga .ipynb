{
 "cells": [
  {
   "cell_type": "code",
   "execution_count": 1,
   "id": "3f57d329",
   "metadata": {},
   "outputs": [],
   "source": [
    "import numpy as np"
   ]
  },
  {
   "attachments": {},
   "cell_type": "markdown",
   "id": "0b600683",
   "metadata": {},
   "source": [
    "# Tarea 1 **[25 pts]**\n",
    "\n",
    "Sea $m\\geq n$. Una matriz $T\\in\\mathbb{R}^{m\\times n}$ se llama **triangular north-east** si\n",
    "$T_{j,k}=0$ para $j>k$.\n",
    "\n",
    "El objetivo de esta tarea es fabricar una función `qt` que a partir de una matriz $A\\in\\mathbb{R}^{m\\times n}$\n",
    "calcule una descomposición\n",
    "\n",
    "\\begin{align*}\n",
    "QA = T\n",
    "\\end{align*}\n",
    "\n",
    "con $Q\\in\\mathbb{R}^{m\\times m}$ ortonormal y $T\\in\\mathbb{R}^{m\\times n}$ triangular north-east. La función\n",
    "`qt` debe usar reflexiones de Householder, es decir\n",
    "\n",
    "\\begin{align*}\n",
    "Q = H_{w_n} \\cdot \\dots \\cdot H_{w_1}.\n",
    "\\end{align*}\n",
    "\n",
    "En vez de calcular $Q$ explicitamente, la función `qt` calcula la matriz\n",
    "\n",
    "\\begin{align*}\n",
    "W =\n",
    "\\begin{pmatrix}\n",
    "| & & |\\\\\n",
    "w_1 & \\dots & w_n\\\\\n",
    "| & & |\n",
    "\\end{pmatrix}.\n",
    "\\end{align*}\n",
    "\n",
    "La función debe tener la signatura\n",
    "\n",
    "`(W,T) = qt(A)`.\n",
    "\n",
    "Las matrices $A,W,T$ son todas del tipo `np.array`."
   ]
  },
  {
   "cell_type": "code",
   "execution_count": 17,
   "id": "221dd0e2",
   "metadata": {},
   "outputs": [
    {
     "ename": "SyntaxError",
     "evalue": "invalid syntax (4202562615.py, line 7)",
     "output_type": "error",
     "traceback": [
      "\u001b[1;36m  Cell \u001b[1;32mIn[17], line 7\u001b[1;36m\u001b[0m\n\u001b[1;33m    vec = A[]\u001b[0m\n\u001b[1;37m            ^\u001b[0m\n\u001b[1;31mSyntaxError\u001b[0m\u001b[1;31m:\u001b[0m invalid syntax\n"
     ]
    }
   ],
   "source": [
    "def qt(A: np.array):\n",
    "    '''Return a representation of the factorization QA=T with Q mxm orthonormal and T matrix mxn triangular north-east\n",
    "     where W=(w_1,...,w_n)'''\n",
    "    n, m = np.shape(A) # dimension\n",
    "    # Over iteration\n",
    "    for k in range(m):\n",
    "        vec = A[]\n",
    "    if A[]\n",
    "    W = A\n",
    "    T = A\n",
    "    return (W,T)"
   ]
  },
  {
   "cell_type": "code",
   "execution_count": 16,
   "id": "7e76148f",
   "metadata": {},
   "outputs": [
    {
     "name": "stdout",
     "output_type": "stream",
     "text": [
      "[1 3 1 6]\n",
      "[2 4 1]\n",
      "[3 5]\n"
     ]
    }
   ],
   "source": [
    "A = np.array([\n",
    "     [1,2,3],\n",
    "     [3,4,5],\n",
    "     [1,1,1],\n",
    "     [6,5,4]\n",
    "     ])\n",
    "n, m = np.shape(A)\n",
    "for k in range(m):\n",
    "    print(A[:m-k+1,k])"
   ]
  },
  {
   "attachments": {},
   "cell_type": "markdown",
   "id": "3e4e5223",
   "metadata": {},
   "source": [
    "# Tarea 2 **[25 pts]**\n",
    "\n",
    "En un segundo paso, escriba una función\n",
    "\n",
    "`(y) = evalHouseholder(W,x)`\n",
    "\n",
    "que calcule $y = Qx$, donde $W$ representa a la matriz ortogonal $Q$ según las indicaciones de arriba.\n",
    "La única restricción es que la función `evalHouseholder` debe pedir solamente la memoria para el vector $y$."
   ]
  },
  {
   "cell_type": "code",
   "execution_count": 32,
   "id": "8e3978ba",
   "metadata": {},
   "outputs": [],
   "source": [
    "def evalHouseholder(W,x):\n",
    "    \n",
    "    m = W.shape[0];\n",
    "    y = np.zeros(m);\n",
    "    \n",
    "    #\n",
    "    # implemente aqui la función SIN pedir mas memoria para matrices o vectores\n",
    "    #\n",
    "    \n",
    "    return y"
   ]
  },
  {
   "attachments": {},
   "cell_type": "markdown",
   "id": "8bfc0db6",
   "metadata": {},
   "source": [
    "# Tarea 3 **[25 pts]**\n",
    "\n",
    "\n",
    "En un tercer paso aplicamos las funciones de arriba al problema de calcular $x\\in\\mathbb{R}^n$ tal que\n",
    "\n",
    "\\begin{align*}\n",
    "\\| b-Ax \\|_2 = \\min_{y\\in\\mathbb{R}^n}\\| b-Ay \\|_2\n",
    "\\end{align*}\n",
    "\n",
    "**sin** usar las ecuaciones normales. Aplicaremos la técnica del Lemma 30 de los apuntes."
   ]
  },
  {
   "cell_type": "code",
   "execution_count": 38,
   "id": "327a016f",
   "metadata": {},
   "outputs": [],
   "source": [
    "def minquad(A,b):\n",
    "    \n",
    "    (W,T) = qt(A);\n",
    "    \n",
    "    #\n",
    "    #  implemente aqui la función\n",
    "    #\n",
    "    \n",
    "    return x;"
   ]
  },
  {
   "attachments": {},
   "cell_type": "markdown",
   "id": "37666196",
   "metadata": {},
   "source": [
    "# Tarea 4 **[25 pts]**\n",
    "\n",
    "Invente unos ejemplos para testear sus funciones!"
   ]
  },
  {
   "cell_type": "code",
   "execution_count": null,
   "id": "66f64a62",
   "metadata": {},
   "outputs": [],
   "source": []
  }
 ],
 "metadata": {
  "kernelspec": {
   "display_name": "Python 3 (ipykernel)",
   "language": "python",
   "name": "python3"
  },
  "language_info": {
   "codemirror_mode": {
    "name": "ipython",
    "version": 3
   },
   "file_extension": ".py",
   "mimetype": "text/x-python",
   "name": "python",
   "nbconvert_exporter": "python",
   "pygments_lexer": "ipython3",
   "version": "3.10.9"
  }
 },
 "nbformat": 4,
 "nbformat_minor": 5
}
